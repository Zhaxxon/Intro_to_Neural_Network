{
  "nbformat": 4,
  "nbformat_minor": 0,
  "metadata": {
    "colab": {
      "name": "Генератор текста.ipynb",
      "provenance": [],
      "collapsed_sections": []
    },
    "kernelspec": {
      "name": "python2",
      "display_name": "Python 2"
    },
    "accelerator": "GPU"
  },
  "cells": [
    {
      "cell_type": "markdown",
      "metadata": {
        "id": "glKIcvbYlUUE",
        "colab_type": "text"
      },
      "source": [
        "Читаем библиотеки"
      ]
    },
    {
      "cell_type": "code",
      "metadata": {
        "id": "BOwsuGQQY9OL",
        "colab_type": "code",
        "colab": {}
      },
      "source": [
        "from tensorflow.keras.preprocessing.sequence import pad_sequences\n",
        "from tensorflow.keras.layers import Embedding, LSTM, Dense, Dropout, Bidirectional\n",
        "from tensorflow.keras.preprocessing.text import Tokenizer\n",
        "from tensorflow.keras.models import Sequential\n",
        "from tensorflow.keras.optimizers import Adam\n",
        "from tensorflow.keras import regularizers\n",
        "import tensorflow.keras.utils as ku \n",
        "import numpy as np "
      ],
      "execution_count": 1,
      "outputs": []
    },
    {
      "cell_type": "code",
      "metadata": {
        "id": "o_-o-ECeV__M",
        "colab_type": "code",
        "colab": {}
      },
      "source": [
        "from tensorflow.keras.callbacks import EarlyStopping"
      ],
      "execution_count": 12,
      "outputs": []
    },
    {
      "cell_type": "markdown",
      "metadata": {
        "id": "xx65KF8YiubY",
        "colab_type": "text"
      },
      "source": [
        "Разбор текста - Токенизация"
      ]
    },
    {
      "cell_type": "code",
      "metadata": {
        "id": "-6b4_D1DUPQV",
        "colab_type": "code",
        "colab": {
          "base_uri": "https://localhost:8080/",
          "height": 217
        },
        "outputId": "bfb38849-a7b3-4a96-d9a1-23de63ac2231"
      },
      "source": [
        "# Создаем объект для токенизапции\n",
        "tokenizer = Tokenizer(num_words=1000)\n",
        "!wget --no-check-certificate \\\n",
        "    https://storage.googleapis.com/laurencemoroney-blog.appspot.com/sonnets.txt \\\n",
        "    -O /tmp/sonnets.txt\n",
        "data = open('/tmp/sonnets.txt').read()\n",
        "#Читаем текст\n",
        "corpus = data.lower().split(\"\\n\")"
      ],
      "execution_count": 56,
      "outputs": [
        {
          "output_type": "stream",
          "text": [
            "--2020-07-10 16:33:52--  https://storage.googleapis.com/laurencemoroney-blog.appspot.com/sonnets.txt\n",
            "Resolving storage.googleapis.com (storage.googleapis.com)... 142.250.13.128, 64.233.167.128, 74.125.133.128, ...\n",
            "Connecting to storage.googleapis.com (storage.googleapis.com)|142.250.13.128|:443... connected.\n",
            "HTTP request sent, awaiting response... 200 OK\n",
            "Length: 93578 (91K) [text/plain]\n",
            "Saving to: ‘/tmp/sonnets.txt’\n",
            "\n",
            "\r/tmp/sonnets.txt      0%[                    ]       0  --.-KB/s               \r/tmp/sonnets.txt    100%[===================>]  91.38K  --.-KB/s    in 0.001s  \n",
            "\n",
            "2020-07-10 16:33:52 (104 MB/s) - ‘/tmp/sonnets.txt’ saved [93578/93578]\n",
            "\n"
          ],
          "name": "stdout"
        }
      ]
    },
    {
      "cell_type": "code",
      "metadata": {
        "id": "h8AtaI3FUUXf",
        "colab_type": "code",
        "colab": {
          "base_uri": "https://localhost:8080/",
          "height": 199
        },
        "outputId": "5c8a8711-45b4-4853-e29e-17a7fe8327ab"
      },
      "source": [
        "corpus[:10]"
      ],
      "execution_count": 57,
      "outputs": [
        {
          "output_type": "execute_result",
          "data": {
            "text/plain": [
              "['from fairest creatures we desire increase,',\n",
              " \"that thereby beauty's rose might never die,\",\n",
              " 'but as the riper should by time decease,',\n",
              " 'his tender heir might bear his memory:',\n",
              " 'but thou, contracted to thine own bright eyes,',\n",
              " \"feed'st thy light'st flame with self-substantial fuel,\",\n",
              " 'making a famine where abundance lies,',\n",
              " 'thyself thy foe, to thy sweet self too cruel.',\n",
              " \"thou that art now the world's fresh ornament\",\n",
              " 'and only herald to the gaudy spring,']"
            ]
          },
          "metadata": {
            "tags": []
          },
          "execution_count": 57
        }
      ]
    },
    {
      "cell_type": "markdown",
      "metadata": {
        "id": "kvj2zIe-jF2D",
        "colab_type": "text"
      },
      "source": [
        "Исполним токенизацию и кодирование"
      ]
    },
    {
      "cell_type": "code",
      "metadata": {
        "colab_type": "code",
        "id": "PRnDnCW-Z7qv",
        "colab": {}
      },
      "source": [
        "tokenizer.fit_on_texts(corpus)\n",
        "total_words = len(tokenizer.word_index) + 1\n",
        "\n",
        "# create input sequences using list of tokens\n",
        "input_sequences = []\n",
        "for line in corpus:\n",
        "\ttoken_list = tokenizer.texts_to_sequences([line])[0]\n",
        "\tfor i in range(1, len(token_list)):\n",
        "\t\tn_gram_sequence = token_list[:i+1]\n",
        "\t\tinput_sequences.append(n_gram_sequence)\n",
        "\n",
        "\n",
        "# pad sequences \n",
        "max_sequence_len = max([len(x) for x in input_sequences])\n",
        "input_sequences = np.array(pad_sequences(input_sequences, maxlen=max_sequence_len, padding='pre'))\n",
        "\n",
        "# create predictors and label\n",
        "predictors, label = input_sequences[:,:-1],input_sequences[:,-1]\n",
        "\n",
        "label = ku.to_categorical(label, num_classes=total_words)"
      ],
      "execution_count": 58,
      "outputs": []
    },
    {
      "cell_type": "markdown",
      "metadata": {
        "id": "vyo8I8gBjNbC",
        "colab_type": "text"
      },
      "source": [
        "Посмотрим на все это"
      ]
    },
    {
      "cell_type": "code",
      "metadata": {
        "id": "zMuJEMRCiA_0",
        "colab_type": "code",
        "colab": {
          "base_uri": "https://localhost:8080/",
          "height": 35
        },
        "outputId": "ae4f7782-c335-43b6-d065-be0d5ef6cb65"
      },
      "source": [
        "tokenizer.index_word[5]"
      ],
      "execution_count": 59,
      "outputs": [
        {
          "output_type": "execute_result",
          "data": {
            "application/vnd.google.colaboratory.intrinsic": {
              "type": "string"
            },
            "text/plain": [
              "'my'"
            ]
          },
          "metadata": {
            "tags": []
          },
          "execution_count": 59
        }
      ]
    },
    {
      "cell_type": "code",
      "metadata": {
        "id": "GBEiqyoQhlEd",
        "colab_type": "code",
        "colab": {
          "base_uri": "https://localhost:8080/",
          "height": 35
        },
        "outputId": "d583a284-64b4-454c-8bae-56db3a7e4924"
      },
      "source": [
        "tokenizer.word_index['we']"
      ],
      "execution_count": 60,
      "outputs": [
        {
          "output_type": "execute_result",
          "data": {
            "text/plain": [
              "166"
            ]
          },
          "metadata": {
            "tags": []
          },
          "execution_count": 60
        }
      ]
    },
    {
      "cell_type": "code",
      "metadata": {
        "id": "KRj9wFSMhdWQ",
        "colab_type": "code",
        "colab": {
          "base_uri": "https://localhost:8080/",
          "height": 72
        },
        "outputId": "1ccfc290-34bf-48a6-e093-626d8b2e796a"
      },
      "source": [
        "input_sequences[:2,:]"
      ],
      "execution_count": 61,
      "outputs": [
        {
          "output_type": "execute_result",
          "data": {
            "text/plain": [
              "array([[  0,   0,   0,   0,   0,   0,   0,   0,   0,  34, 417],\n",
              "       [  0,   0,   0,   0,   0,   0,   0,   0,  34, 417, 877]],\n",
              "      dtype=int32)"
            ]
          },
          "metadata": {
            "tags": []
          },
          "execution_count": 61
        }
      ]
    },
    {
      "cell_type": "code",
      "metadata": {
        "id": "oEBa1IEtghmP",
        "colab_type": "code",
        "colab": {
          "base_uri": "https://localhost:8080/",
          "height": 145
        },
        "outputId": "64ef4624-5b80-4617-f3a2-df0f880064b0"
      },
      "source": [
        "label[:10]"
      ],
      "execution_count": 62,
      "outputs": [
        {
          "output_type": "execute_result",
          "data": {
            "text/plain": [
              "array([[0., 0., 0., ..., 0., 0., 0.],\n",
              "       [0., 0., 0., ..., 0., 0., 0.],\n",
              "       [0., 0., 0., ..., 0., 0., 0.],\n",
              "       ...,\n",
              "       [0., 0., 0., ..., 0., 0., 0.],\n",
              "       [0., 0., 0., ..., 0., 0., 0.],\n",
              "       [0., 0., 0., ..., 0., 0., 0.]], dtype=float32)"
            ]
          },
          "metadata": {
            "tags": []
          },
          "execution_count": 62
        }
      ]
    },
    {
      "cell_type": "markdown",
      "metadata": {
        "id": "0ZMOORKCjpUU",
        "colab_type": "text"
      },
      "source": [
        "Создаем сеть"
      ]
    },
    {
      "cell_type": "code",
      "metadata": {
        "id": "_UgOcPDkVlV8",
        "colab_type": "code",
        "colab": {}
      },
      "source": [
        "callback = EarlyStopping(monitor='val_loss', patience=10)"
      ],
      "execution_count": 63,
      "outputs": []
    },
    {
      "cell_type": "code",
      "metadata": {
        "id": "w9vH8Y59ajYL",
        "colab_type": "code",
        "colab": {
          "base_uri": "https://localhost:8080/",
          "height": 326
        },
        "outputId": "197d9e42-9bee-463f-f625-c7252f551574"
      },
      "source": [
        "model = Sequential()\n",
        "model.add(Embedding(total_words, 10, input_length=max_sequence_len-1))\n",
        "#model.add(Bidirectional(LSTM(50, return_sequences = True)))\n",
        "#model.add(Dropout(0.2))\n",
        "model.add(LSTM(10))\n",
        "model.add(Dense(total_words/2, activation='relu', kernel_regularizer=regularizers.l2(0.01)))\n",
        "model.add(Dense(total_words, activation='softmax'))\n",
        "model.compile(loss='categorical_crossentropy', optimizer='adam', metrics=['accuracy'])\n",
        "print(model.summary())\n"
      ],
      "execution_count": 64,
      "outputs": [
        {
          "output_type": "stream",
          "text": [
            "Model: \"sequential_6\"\n",
            "_________________________________________________________________\n",
            "Layer (type)                 Output Shape              Param #   \n",
            "=================================================================\n",
            "embedding_6 (Embedding)      (None, 10, 10)            32110     \n",
            "_________________________________________________________________\n",
            "lstm_11 (LSTM)               (None, 10)                840       \n",
            "_________________________________________________________________\n",
            "dense_12 (Dense)             (None, 1605)              17655     \n",
            "_________________________________________________________________\n",
            "dense_13 (Dense)             (None, 3211)              5156866   \n",
            "=================================================================\n",
            "Total params: 5,207,471\n",
            "Trainable params: 5,207,471\n",
            "Non-trainable params: 0\n",
            "_________________________________________________________________\n",
            "None\n"
          ],
          "name": "stdout"
        }
      ]
    },
    {
      "cell_type": "code",
      "metadata": {
        "id": "AIg2f1HBxqof",
        "colab_type": "code",
        "colab": {
          "base_uri": "https://localhost:8080/",
          "height": 710
        },
        "outputId": "ae5d073c-a490-494d-a943-776599a40271"
      },
      "source": [
        " history = model.fit(predictors, label, epochs=100, validation_split=0.2, callbacks=[callback],verbose=1)"
      ],
      "execution_count": 65,
      "outputs": [
        {
          "output_type": "stream",
          "text": [
            "Train on 10304 samples, validate on 2576 samples\n",
            "Epoch 1/100\n",
            "10304/10304 [==============================] - 6s 623us/sample - loss: 6.3418 - accuracy: 0.0273 - val_loss: 6.0299 - val_accuracy: 0.0190\n",
            "Epoch 2/100\n",
            "10304/10304 [==============================] - 5s 463us/sample - loss: 5.8651 - accuracy: 0.0272 - val_loss: 5.9976 - val_accuracy: 0.0190\n",
            "Epoch 3/100\n",
            "10304/10304 [==============================] - 5s 465us/sample - loss: 5.8290 - accuracy: 0.0285 - val_loss: 6.0118 - val_accuracy: 0.0190\n",
            "Epoch 4/100\n",
            "10304/10304 [==============================] - 5s 464us/sample - loss: 5.7968 - accuracy: 0.0287 - val_loss: 6.0584 - val_accuracy: 0.0194\n",
            "Epoch 5/100\n",
            "10304/10304 [==============================] - 5s 465us/sample - loss: 5.7706 - accuracy: 0.0313 - val_loss: 5.9825 - val_accuracy: 0.0214\n",
            "Epoch 6/100\n",
            "10304/10304 [==============================] - 5s 465us/sample - loss: 5.7412 - accuracy: 0.0300 - val_loss: 5.9878 - val_accuracy: 0.0233\n",
            "Epoch 7/100\n",
            "10304/10304 [==============================] - 5s 463us/sample - loss: 5.7019 - accuracy: 0.0305 - val_loss: 5.9736 - val_accuracy: 0.0237\n",
            "Epoch 8/100\n",
            "10304/10304 [==============================] - 5s 464us/sample - loss: 5.6708 - accuracy: 0.0342 - val_loss: 5.9734 - val_accuracy: 0.0248\n",
            "Epoch 9/100\n",
            "10304/10304 [==============================] - 5s 464us/sample - loss: 5.6392 - accuracy: 0.0345 - val_loss: 5.9883 - val_accuracy: 0.0256\n",
            "Epoch 10/100\n",
            "10304/10304 [==============================] - 5s 466us/sample - loss: 5.6163 - accuracy: 0.0386 - val_loss: 6.0360 - val_accuracy: 0.0268\n",
            "Epoch 11/100\n",
            "10304/10304 [==============================] - 5s 461us/sample - loss: 5.5904 - accuracy: 0.0408 - val_loss: 6.0144 - val_accuracy: 0.0245\n",
            "Epoch 12/100\n",
            "10304/10304 [==============================] - 5s 464us/sample - loss: 5.5622 - accuracy: 0.0417 - val_loss: 6.0394 - val_accuracy: 0.0260\n",
            "Epoch 13/100\n",
            "10304/10304 [==============================] - 5s 464us/sample - loss: 5.5413 - accuracy: 0.0410 - val_loss: 6.0416 - val_accuracy: 0.0276\n",
            "Epoch 14/100\n",
            "10304/10304 [==============================] - 5s 465us/sample - loss: 5.5165 - accuracy: 0.0410 - val_loss: 6.0603 - val_accuracy: 0.0260\n",
            "Epoch 15/100\n",
            "10304/10304 [==============================] - 5s 463us/sample - loss: 5.4960 - accuracy: 0.0411 - val_loss: 6.0637 - val_accuracy: 0.0264\n",
            "Epoch 16/100\n",
            "10304/10304 [==============================] - 5s 464us/sample - loss: 5.4746 - accuracy: 0.0410 - val_loss: 6.0883 - val_accuracy: 0.0260\n",
            "Epoch 17/100\n",
            "10304/10304 [==============================] - 5s 463us/sample - loss: 5.4548 - accuracy: 0.0435 - val_loss: 6.1219 - val_accuracy: 0.0264\n",
            "Epoch 18/100\n",
            "10304/10304 [==============================] - 5s 459us/sample - loss: 5.4284 - accuracy: 0.0453 - val_loss: 6.1079 - val_accuracy: 0.0256\n"
          ],
          "name": "stdout"
        }
      ]
    },
    {
      "cell_type": "markdown",
      "metadata": {
        "id": "qdhjEfBElNMC",
        "colab_type": "text"
      },
      "source": [
        "Тест\n"
      ]
    },
    {
      "cell_type": "code",
      "metadata": {
        "id": "1fXTEO3GJ282",
        "colab_type": "code",
        "colab": {
          "base_uri": "https://localhost:8080/",
          "height": 545
        },
        "outputId": "d9931182-05ed-472b-c84b-1754bdf2b2af"
      },
      "source": [
        "import matplotlib.pyplot as plt\n",
        "acc = history.history['accuracy']\n",
        "acc_v = history.history['val_accuracy']\n",
        "loss = history.history['loss']\n",
        "loss_v = history.history['val_loss']\n",
        "\n",
        "epochs = range(len(acc))\n",
        "\n",
        "plt.plot(epochs, acc, 'b', label='Train')\n",
        "plt.plot(epochs, acc_v, 'r', label='Test')\n",
        "plt.legend()\n",
        "plt.title('accuracy')\n",
        "\n",
        "plt.figure()\n",
        "\n",
        "plt.plot(epochs, loss, 'b', label='Train')\n",
        "plt.plot(epochs, loss_v, 'r', label='Test')\n",
        "plt.title('loss')\n",
        "plt.legend()\n",
        "\n",
        "plt.show()"
      ],
      "execution_count": 66,
      "outputs": [
        {
          "output_type": "display_data",
          "data": {
            "image/png": "[encoded data removed]",
            "text/plain": [
              "<Figure size 432x288 with 1 Axes>"
            ]
          },
          "metadata": {
            "tags": [],
            "needs_background": "light"
          }
        },
        {
          "output_type": "display_data",
          "data": {
            "image/png": "[encoded data removed]",
            "text/plain": [
              "<Figure size 432x288 with 1 Axes>"
            ]
          },
          "metadata": {
            "tags": [],
            "needs_background": "light"
          }
        }
      ]
    },
    {
      "cell_type": "code",
      "metadata": {
        "id": "6Vc6PHgxa6Hm",
        "colab_type": "code",
        "colab": {
          "base_uri": "https://localhost:8080/",
          "height": 55
        },
        "outputId": "99149dee-40dc-4d0e-f730-8e5de4d6cc04"
      },
      "source": [
        "#seed_text = \"Help me Obi Wan Kenobi, you're my only hope\"\n",
        "seed_text = \"She is my girl, I see in my hend\"\n",
        "next_words = 100\n",
        "  \n",
        "for _ in range(next_words):\n",
        "\ttoken_list = tokenizer.texts_to_sequences([seed_text])[0]\n",
        "\ttoken_list = pad_sequences([token_list], maxlen=max_sequence_len-1, padding='pre')\n",
        "\tpredicted = model.predict_classes(token_list, verbose=0)\n",
        "  #y_p=model.predict(token_list)\n",
        "\toutput_word = \"\"\n",
        "\ty_p=model.predict(token_list)\n",
        "\tfor word, index in tokenizer.word_index.items():\n",
        "\t\tif index == predicted:\n",
        "\t\t\toutput_word = word\n",
        "\t\t\tbreak\n",
        "\tseed_text += \" \" + output_word\n",
        "print(seed_text)"
      ],
      "execution_count": 74,
      "outputs": [
        {
          "output_type": "stream",
          "text": [
            "She is my girl, I see in my hend love doth doth love be be be my love of doth be be my love of doth love be be my love of doth be be be my love of doth be be be my love of doth be be be my love of doth be be be my love of doth be be be my love of doth be be be my love of doth be be be my love of doth be be be my love of doth be be be my love of doth be be be my love of doth be be be my love of\n"
          ],
          "name": "stdout"
        }
      ]
    },
    {
      "cell_type": "code",
      "metadata": {
        "id": "nG0XtgeLgkie",
        "colab_type": "code",
        "colab": {
          "base_uri": "https://localhost:8080/",
          "height": 287
        },
        "outputId": "94f1eb24-3207-4799-d4b2-a276651a408c"
      },
      "source": [
        "plt.plot(y_p[0,:])"
      ],
      "execution_count": 77,
      "outputs": [
        {
          "output_type": "execute_result",
          "data": {
            "text/plain": [
              "[<matplotlib.lines.Line2D at 0x7f95a0f5d590>]"
            ]
          },
          "metadata": {
            "tags": []
          },
          "execution_count": 77
        },
        {
          "output_type": "display_data",
          "data": {
            "image/png": "[encoded data removed]",
            "text/plain": [
              "<Figure size 432x288 with 1 Axes>"
            ]
          },
          "metadata": {
            "tags": [],
            "needs_background": "light"
          }
        }
      ]
    },
    {
      "cell_type": "code",
      "metadata": {
        "id": "ZBaCLMR-mWVg",
        "colab_type": "code",
        "colab": {}
      },
      "source": [
        ""
      ],
      "execution_count": null,
      "outputs": []
    }
  ]
}